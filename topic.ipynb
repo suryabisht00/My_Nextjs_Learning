{
 "cells": [
  {
   "cell_type": "markdown",
   "metadata": {},
   "source": [
    "# `NEXT.JS(v15)?`\n",
    "\n",
    "- Next.js is a React framework for building full-stack web applications"
   ]
  },
  {
   "cell_type": "markdown",
   "metadata": {},
   "source": [
    "# _______________________________________________________________________________________________________________________________\n"
   ]
  },
  {
   "cell_type": "markdown",
   "metadata": {},
   "source": [
    "# REACT\n",
    "- it's not feasible to create a fully-featured application ready for production \n",
    "- React is a library for bulding user interfaces\n",
    "- we need to make decisions about other features such as routing, data fetching and more"
   ]
  },
  {
   "cell_type": "markdown",
   "metadata": {},
   "source": [
    "# _______________________________________________________________________________________________________________________________"
   ]
  },
  {
   "cell_type": "markdown",
   "metadata": {},
   "source": [
    "# WHAT IS NEXT.JS?\n",
    "- it uess React for building user interfaces\n",
    "- Provides additional features that enable you to build production-ready application\n",
    "- These features include routing, optimized rendering, dta fetching, bundling compiling, and more\n",
    "- You don't have to install additioal packages as Next.js provides everything you need\n",
    "- Opinions and conventions should be followed to implement these features\n",
    "- The conventions have emerged from a team with years of experience in writing React apps for production\n",
    "- Next.js is a React framework for buildng full-stack web applications\n",
    "\n"
   ]
  },
  {
   "cell_type": "markdown",
   "metadata": {},
   "source": [
    "# _______________________________________________________________________________________________________________________________\n"
   ]
  },
  {
   "cell_type": "markdown",
   "metadata": {},
   "source": [
    "# PREREQUISITES\n",
    "- HTML\n",
    "- CSS\n",
    "- MODERN JAVASCRIPT\n",
    "- REACT FUNDAMENTALS (COMPONENTS, HOOK,PROPS,STATES)"
   ]
  },
  {
   "cell_type": "markdown",
   "metadata": {},
   "source": [
    "# _______________________________________________________________________________________________________________________________\n"
   ]
  },
  {
   "cell_type": "markdown",
   "metadata": {},
   "source": [
    "# PROJECT SETUP\n",
    "- NEXT.JS(15) REQUIRED NODE.JS(V18 AND ABOVE) ON MACHINE\n",
    "- DOWNLOAD VS CODE (CODE EDITOR)\n",
    "\n"
   ]
  },
  {
   "cell_type": "markdown",
   "metadata": {},
   "source": [
    "# _______________________________________________________________________________________________________________________________\n"
   ]
  },
  {
   "cell_type": "markdown",
   "metadata": {},
   "source": [
    "# CREATE A NEXT JS APP\n",
    "### OPEN TERMINAL IN VS CODE & RUN\n",
    "- `npx create-next-app@latest`\n",
    "-  Open the project Directory \n",
    "- ` cd project_name `\n",
    "- ` npm run dev `\n",
    "\n"
   ]
  },
  {
   "cell_type": "markdown",
   "metadata": {},
   "source": [
    "# _______________________________________________________________________________________________________________________________\n"
   ]
  },
  {
   "cell_type": "markdown",
   "metadata": {},
   "source": [
    "# Overview of Next.js Application Files and Directory Structure\n",
    "\n",
    "When you create a new Next.js application, the following files and directories are generated:\n",
    "\n",
    "## Root Directory\n",
    "- `package.json`: Contains project metadata and dependencies.\n",
    "- `node_modules/`: Directory where all the project dependencies are installed.\n",
    "- `public/`: Directory for static assets like images, fonts, etc.\n",
    "- `pages/`: Directory for defining the routes of your application.\n",
    "- `styles/`: Directory for global styles and CSS modules.\n",
    "\n",
    "## Key Files and Directories\n",
    "- `pages/index.js`: The main entry point of your application (home page).\n",
    "- `pages/_app.js`: Custom App component to initialize pages.\n",
    "- `pages/_document.js_`/: Custom Document component to augment the application HTML and body tags.\n",
    "- `pages/api/`: Directory for API routes, where you can define serverless functions.\n",
    "- `styles/globals.css`: Global CSS file for your application.\n",
    "- `.next/`: Directory where Next.js stores the build output.\n"
   ]
  },
  {
   "cell_type": "markdown",
   "metadata": {},
   "source": [
    "# _______________________________________________________________________________________________________________________________\n"
   ]
  },
  {
   "cell_type": "markdown",
   "metadata": {},
   "source": [
    "# React Server Components\n",
    "##### React server components is a new architecture introduced by the React which was quickly embraced by next.js.\n",
    "##### The architecute introduces a new way of creating React components, them into two types.\n",
    "- `server components`\n",
    "- `client components`"
   ]
  },
  {
   "cell_type": "markdown",
   "metadata": {},
   "source": [
    "# _______________________________________________________________________________________________________________________________\n"
   ]
  },
  {
   "cell_type": "markdown",
   "metadata": {},
   "source": [
    "# ` Server components `\n",
    "- rendered exclusively on the server.\n",
    "- never sent to the client.\n",
    "- faster page loads.\n",
    "- can't use interactivity features like useState or useEffect.\n",
    "# ` client comonents`\n",
    "- rendered in the browser.\n",
    "- rendered to HTML once on the server\n",
    "- immediately see the page's HTML content rather than a blank screen.\n",
    "- can use state ,effects, and browser-only APIs\n",
    "- add 'use client' directive at the top"
   ]
  },
  {
   "cell_type": "markdown",
   "metadata": {},
   "source": [
    "# _______________________________________________________________________________________________________________________________\n"
   ]
  },
  {
   "cell_type": "markdown",
   "metadata": {},
   "source": [
    "# Use of components\n",
    "### `server component` \n",
    "- fetching data\n",
    "- accessing backend resources\n",
    "- keeping sensitive information on the server\n",
    "\n",
    "### `client components`\n",
    "- interacitivity and event listeners\n",
    "- using hooks like useState or useEffect\n",
    "- using browser-only APIs"
   ]
  },
  {
   "cell_type": "markdown",
   "metadata": {},
   "source": [
    "# _______________________________________________________________________________________________________________________________\n"
   ]
  },
  {
   "cell_type": "markdown",
   "metadata": {},
   "source": [
    "# Routing (check the folder `-routing`)\n",
    "- Next.js has a file-system based routing mechanism\n",
    "- The way you orgnaize your files and folders determines the routes of your application\n",
    "\n",
    "## `Routing conventions:`\n",
    "- all routs must be placed inside the app folder\n",
    "- every file that represents a route should be named page.js or page.tsx\n",
    "- every folder corresponds to a path segment in the browser URL\n"
   ]
  },
  {
   "cell_type": "markdown",
   "metadata": {},
   "source": [
    "# _______________________________________________________________________________________________________________________________\n"
   ]
  },
  {
   "cell_type": "markdown",
   "metadata": {},
   "source": [
    "# FAQ\n",
    "#### `when do i use .js and .tsx files ?`\n",
    "- for simple project use .js \n",
    "- For a market-ready project, you should use .tsx with TypeScript. Here's why:\n",
    "\n",
    "### Why Use TypeScript (.tsx)?\n",
    "- Type Safety: TypeScript prevents many runtime errors by catching issues during development.\n",
    "- Better Developer Experience:\n",
    "- Enhanced autocompletion.\n",
    "- Clearer documentation with types.\n",
    "- Scalability: Easier to maintain and refactor as your project grows.\n",
    "- Modern Standard: Many companies and developers prefer TypeScript for production-ready applications."
   ]
  },
  {
   "cell_type": "markdown",
   "metadata": {},
   "source": []
  },
  {
   "cell_type": "markdown",
   "metadata": {},
   "source": [
    "# _______________________________________________________________________________________________________________________________\n",
    "\n"
   ]
  },
  {
   "cell_type": "markdown",
   "metadata": {},
   "source": [
    "### `steps to create routing in next js`\n",
    "\n",
    "### Create a new page component: \n",
    "Each file in the pages directory corresponds to a route based on its filename. For example, creating index.js and about.js in the pages directory will create routes for / and /about.\n",
    "\n",
    "### Link between pages: \n",
    "-  Use the Link component from next/link to navigate between pages. Create a navigation component (e.g., Navbar.js) and use the Link component to create links to different pages.\n",
    "\n",
    "### Include the Navbar in your pages: \n",
    "- Import and use the Navbar component in your page components. You can include it in a custom _app.js file to ensure it appears on all pages.\n",
    "\n",
    "\n",
    "\n",
    "### These steps will set up basic routing in your Next.js application.\n",
    "# Dynamic pages on next js:-\n",
    "- create folder \n",
    "- name the routs\n",
    "- the route will created\n",
    "- Acess using folder name"
   ]
  },
  {
   "cell_type": "markdown",
   "metadata": {},
   "source": [
    "# _______________________________________________________________________________________________________________________________\n",
    "\n"
   ]
  },
  {
   "cell_type": "markdown",
   "metadata": {},
   "source": [
    "# Rout Groups\n",
    "\n",
    "- route groups organize pages without affecting the URL structure. Use parentheses () for group folders.\n",
    "-  `check (-routing) folder`\n",
    "- /app\n",
    "  - /dashboard\n",
    "    - /(auth)  <!-- Route group for authentication -->\n",
    "      - /login\n",
    "        - page.js\n",
    "      - /register\n",
    "        - page.js\n",
    "    - /profile\n",
    "      - page.js\n",
    "\n",
    "- `http://localhost:3000/dashboard/register`\n",
    "- `http://localhost:3000/dashboard/login`\n",
    "- `http://localhost:3000/dashboard/forgotpass`\n"
   ]
  },
  {
   "cell_type": "markdown",
   "metadata": {},
   "source": [
    "# _______________________________________________________________________________________________________________________________\n",
    "\n"
   ]
  },
  {
   "cell_type": "markdown",
   "metadata": {},
   "source": [
    "# Layouts (-routing)\n",
    "\n",
    "- Layouts allow you to define UI that is shared between multiple pages.\n",
    "- Useful for elements like headers, footers, or navigation menus that you want to appear consistently across different routes.\n",
    "\n",
    "\n",
    "\n",
    "-   `open layout.tsx`\n",
    "- modify the root layout \n",
    "- write `header` and `footer` befor / after the childeren element.\n",
    "- apply on all fiels\n"
   ]
  },
  {
   "cell_type": "markdown",
   "metadata": {},
   "source": [
    "# _______________________________________________________________________________________________________________________________\n",
    "\n"
   ]
  },
  {
   "cell_type": "markdown",
   "metadata": {},
   "source": [
    "\n",
    "# Nested Layouts in Next.js (App Router)\n",
    "### check the `ler-layout` folder\n",
    "- Nested layouts allow you to define multiple layouts for different parts of your application, with each layout applied to its nested routes.\n",
    "\n",
    "### How It Works:\n",
    "- Layouts are defined using `layout.tsx` files.\n",
    "- A `layout.tsx` file wraps the corresponding routes and applies to all nested routes within its `folder`.\n",
    "\n",
    "\n",
    "- ### /app\n",
    "  - /dashboard\n",
    "     - |-`layout.tsx`       // Dashboard layout\n",
    "\n",
    "    - |- /auth\n",
    "       -  |- /login\n",
    "          -  |- `page.tsx`       // Login page\n",
    "       -  |- /register\n",
    "          -  |- `page.tsx`       // register page\n",
    "       -  |- /forgetpass\n",
    "          -  |- `page.tsx`       // forgetpass page\n",
    "          \n",
    "    - |- `page.tsx`         // Dashboard homepage\n",
    "    - |- /settings\n",
    "          - `page.tsx`       // Settings page (inherits dashboard layout)\n",
    "\n",
    "\n",
    "\n",
    "\n",
    "# Resulting Behavior:\n",
    "- /dashboard: Uses Dashboard Layout.\n",
    "   - /dashboard/settings: Also uses Dashboard Layout.\n",
    "   - /auth/(login/register/forgetpass):Also Uses dashbord Layout.\n",
    "- Why Use Nested Layouts?\n",
    "   - To apply different UI structures (headers, sidebars) to specific sections of your app.\n"
   ]
  },
  {
   "cell_type": "markdown",
   "metadata": {},
   "source": []
  }
 ],
 "metadata": {
  "kernelspec": {
   "display_name": "Python 3",
   "language": "python",
   "name": "python3"
  },
  "language_info": {
   "codemirror_mode": {
    "name": "ipython",
    "version": 3
   },
   "file_extension": ".py",
   "mimetype": "text/x-python",
   "name": "python",
   "nbconvert_exporter": "python",
   "pygments_lexer": "ipython3",
   "version": "3.10.11"
  }
 },
 "nbformat": 4,
 "nbformat_minor": 2
}
