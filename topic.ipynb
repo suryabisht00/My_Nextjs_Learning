{
 "cells": [
  {
   "cell_type": "markdown",
   "metadata": {},
   "source": [
    "# `NEXT.JS(v15)?`\n",
    "\n",
    "- Next.js is a React framework for building full-stack web applications"
   ]
  },
  {
   "cell_type": "markdown",
   "metadata": {},
   "source": [
    "# _______________________________________________________________________________________________________________________________\n"
   ]
  },
  {
   "cell_type": "markdown",
   "metadata": {},
   "source": [
    "# REACT\n",
    "- it's not feasible to create a fully-featured application ready for production \n",
    "- React is a library for bulding user interfaces\n",
    "- we need to make decisions about other features such as routing, data fetching and more"
   ]
  },
  {
   "cell_type": "markdown",
   "metadata": {},
   "source": [
    "# _______________________________________________________________________________________________________________________________"
   ]
  },
  {
   "cell_type": "markdown",
   "metadata": {},
   "source": [
    "# WHAT IS NEXT.JS?\n",
    "- it uess React for building user interfaces\n",
    "- Provides additional features that enable you to build production-ready application\n",
    "- These features include routing, optimized rendering, dta fetching, bundling compiling, and more\n",
    "- You don't have to install additioal packages as Next.js provides everything you need\n",
    "- Opinions and conventions should be followed to implement these features\n",
    "- The conventions have emerged from a team with years of experience in writing React apps for production\n",
    "- Next.js is a React framework for buildng full-stack web applications\n",
    "\n"
   ]
  },
  {
   "cell_type": "markdown",
   "metadata": {},
   "source": [
    "# _______________________________________________________________________________________________________________________________\n"
   ]
  },
  {
   "cell_type": "markdown",
   "metadata": {},
   "source": [
    "# PREREQUISITES\n",
    "- HTML\n",
    "- CSS\n",
    "- MODERN JAVASCRIPT\n",
    "- REACT FUNDAMENTALS (COMPONENTS, HOOK,PROPS,STATES)"
   ]
  },
  {
   "cell_type": "markdown",
   "metadata": {},
   "source": [
    "# _______________________________________________________________________________________________________________________________\n"
   ]
  },
  {
   "cell_type": "markdown",
   "metadata": {},
   "source": [
    "# PROJECT SETUP\n",
    "- NEXT.JS(15) REQUIRED NODE.JS(V18 AND ABOVE) ON MACHINE\n",
    "- DOWNLOAD VS CODE (CODE EDITOR)\n",
    "\n"
   ]
  },
  {
   "cell_type": "markdown",
   "metadata": {},
   "source": [
    "# _______________________________________________________________________________________________________________________________\n"
   ]
  },
  {
   "cell_type": "markdown",
   "metadata": {},
   "source": [
    "# CREATE A NEXT JS APP\n",
    "### OPEN TERMINAL IN VS CODE & RUN\n",
    "- `npx create-next-app@latest`\n",
    "-  Open the project Directory \n",
    "- ` cd project_name `\n",
    "- ` npm run dev `\n",
    "\n"
   ]
  },
  {
   "cell_type": "markdown",
   "metadata": {},
   "source": [
    "# _______________________________________________________________________________________________________________________________\n"
   ]
  },
  {
   "cell_type": "markdown",
   "metadata": {},
   "source": [
    "# Overview of Next.js Application Files and Directory Structure\n",
    "\n",
    "When you create a new Next.js application, the following files and directories are generated:\n",
    "\n",
    "## Root Directory\n",
    "- `package.json`: Contains project metadata and dependencies.\n",
    "- `node_modules/`: Directory where all the project dependencies are installed.\n",
    "- `public/`: Directory for static assets like images, fonts, etc.\n",
    "- `pages/`: Directory for defining the routes of your application.\n",
    "- `styles/`: Directory for global styles and CSS modules.\n",
    "\n",
    "## Key Files and Directories\n",
    "- `pages/index.js`: The main entry point of your application (home page).\n",
    "- `pages/_app.js`: Custom App component to initialize pages.\n",
    "- `pages/_document.js_`/: Custom Document component to augment the application HTML and body tags.\n",
    "- `pages/api/`: Directory for API routes, where you can define serverless functions.\n",
    "- `styles/globals.css`: Global CSS file for your application.\n",
    "- `.next/`: Directory where Next.js stores the build output.\n"
   ]
  },
  {
   "cell_type": "markdown",
   "metadata": {},
   "source": [
    "# _______________________________________________________________________________________________________________________________\n"
   ]
  },
  {
   "cell_type": "markdown",
   "metadata": {},
   "source": [
    "# React Server Components\n",
    "##### React server components is a new architecture introduced by the React which was quickly embraced by next.js.\n",
    "##### The architecute introduces a new way of creating React components, them into two types.\n",
    "- `server components`\n",
    "- `client components`"
   ]
  },
  {
   "cell_type": "markdown",
   "metadata": {},
   "source": [
    "# _______________________________________________________________________________________________________________________________\n"
   ]
  },
  {
   "cell_type": "markdown",
   "metadata": {},
   "source": [
    "# ` Server components `\n",
    "- rendered exclusively on the server.\n",
    "- never sent to the client.\n",
    "- faster page loads.\n",
    "- can't use interactivity features like useState or useEffect.\n",
    "# ` client comonents`\n",
    "- rendered in the browser.\n",
    "- rendered to HTML once on the server\n",
    "- immediately see the page's HTML content rather than a blank screen.\n",
    "- can use state ,effects, and browser-only APIs\n",
    "- add 'use client' directive at the top"
   ]
  },
  {
   "cell_type": "markdown",
   "metadata": {},
   "source": []
  }
 ],
 "metadata": {
  "kernelspec": {
   "display_name": "Python 3",
   "language": "python",
   "name": "python3"
  },
  "language_info": {
   "codemirror_mode": {
    "name": "ipython",
    "version": 3
   },
   "file_extension": ".py",
   "mimetype": "text/x-python",
   "name": "python",
   "nbconvert_exporter": "python",
   "pygments_lexer": "ipython3",
   "version": "3.10.11"
  }
 },
 "nbformat": 4,
 "nbformat_minor": 2
}
